{
 "cells": [
  {
   "cell_type": "markdown",
   "metadata": {},
   "source": [
    "### Exercise 1. \n",
    "Create a dictionary named pairs with key value pairs of:\n",
    "    - 'hello' and 'fire', \n",
    "    - 3 and 'seven', \n",
    "    - 'strong' and 45. \n",
    "\n",
    "Then, print out the dictionary."
   ]
  },
  {
   "cell_type": "code",
   "execution_count": 5,
   "metadata": {},
   "outputs": [
    {
     "name": "stdout",
     "output_type": "stream",
     "text": [
      "{'hello': 'fire', 3: 'seven', 'strong': 45}\n"
     ]
    }
   ],
   "source": [
    "pairs = {'hello':'fire',3: 'seven', 'strong': 45}\n",
    "print(pairs)"
   ]
  },
  {
   "cell_type": "markdown",
   "metadata": {},
   "source": [
    "### Exercise 2. \n",
    "Add 'welcome' and 56 pair into <b><i>pairs</i></b> dictionary from exercise 1. Then, print out the dictionary. "
   ]
  },
  {
   "cell_type": "code",
   "execution_count": 6,
   "metadata": {},
   "outputs": [],
   "source": [
    "pairs['welcome']=56"
   ]
  },
  {
   "cell_type": "code",
   "execution_count": 7,
   "metadata": {},
   "outputs": [
    {
     "name": "stdout",
     "output_type": "stream",
     "text": [
      "{'hello': 'fire', 3: 'seven', 'strong': 45, 'welcome': 56}\n"
     ]
    }
   ],
   "source": [
    "print(pairs)"
   ]
  },
  {
   "cell_type": "markdown",
   "metadata": {},
   "source": [
    "### Exercise 3. \n",
    "Delete one item from <b><i>pairs</i></b> dictionary. Then, print deleted item and the dictionary."
   ]
  },
  {
   "cell_type": "code",
   "execution_count": 9,
   "metadata": {},
   "outputs": [
    {
     "name": "stdout",
     "output_type": "stream",
     "text": [
      "fire\n",
      "{3: 'seven', 'strong': 45, 'welcome': 56}\n"
     ]
    },
    {
     "ename": "NameError",
     "evalue": "name 'hello' is not defined",
     "output_type": "error",
     "traceback": [
      "\u001b[1;31m---------------------------------------------------------------------------\u001b[0m",
      "\u001b[1;31mNameError\u001b[0m                                 Traceback (most recent call last)",
      "Cell \u001b[1;32mIn[9], line 4\u001b[0m\n\u001b[0;32m      2\u001b[0m pairs\u001b[38;5;241m.\u001b[39mpop(\u001b[38;5;124m\"\u001b[39m\u001b[38;5;124mhello\u001b[39m\u001b[38;5;124m\"\u001b[39m)\n\u001b[0;32m      3\u001b[0m \u001b[38;5;28mprint\u001b[39m(pairs) \u001b[38;5;66;03m# print dictionary\u001b[39;00m\n\u001b[1;32m----> 4\u001b[0m \u001b[38;5;28mprint\u001b[39m(pairs[hello])\n",
      "\u001b[1;31mNameError\u001b[0m: name 'hello' is not defined"
     ]
    }
   ],
   "source": [
    "print(pairs[\"hello\"]) # print item to be deleted\n",
    "pairs.pop(\"hello\")\n",
    "print(pairs) # print dictionary\n",
    "print(pairs[hello]) # print deleted item\n",
    "\n"
   ]
  },
  {
   "cell_type": "markdown",
   "metadata": {},
   "source": [
    "### Exercise 4. \n",
    "Print the value of an item where key is 3 in <b><i>pairs</i></b> dicitonary"
   ]
  },
  {
   "cell_type": "code",
   "execution_count": 10,
   "metadata": {},
   "outputs": [
    {
     "name": "stdout",
     "output_type": "stream",
     "text": [
      "seven\n"
     ]
    }
   ],
   "source": [
    "print(pairs[3]) "
   ]
  },
  {
   "cell_type": "markdown",
   "metadata": {},
   "source": [
    "### Exercise 5. \n",
    "Try to find out if the key called 'hello' exist in <b><i>pairs</i></b> dictionary. Print 'key is found' message if the key exists otherwise print 'key is not there'."
   ]
  },
  {
   "cell_type": "code",
   "execution_count": 13,
   "metadata": {},
   "outputs": [
    {
     "name": "stdout",
     "output_type": "stream",
     "text": [
      "Unknown\n"
     ]
    }
   ],
   "source": [
    "key = \"hello\"\n",
    "if key in pairs :\n",
    "    pair = pairs[key]  # state = states[\"MD\"]\n",
    "else :\n",
    "    pair = \"Unknown\"\n",
    "    \n",
    "print(pair)    "
   ]
  },
  {
   "cell_type": "markdown",
   "metadata": {},
   "source": [
    "### Exercise 6. \n",
    "Create a Test Scores program that gets the name of students and test score from a user. Then, generate a list of students who passed and a list of students who failed where passing test score is 60 or above. "
   ]
  },
  {
   "cell_type": "code",
   "execution_count": 3,
   "metadata": {},
   "outputs": [
    {
     "name": "stdout",
     "output_type": "stream",
     "text": [
      "Enter name of student and test score or 'xx 00' to quit Apple 68\n",
      "Enter name of student and test score or 'xx 00' to quit Betty 72\n",
      "Enter name of student and test score or 'xx 00' to quit Charles 77\n",
      "Enter name of student and test score or 'xx 00' to quit David 88\n",
      "Enter name of student and test score or 'xx 00' to quit Edward 45\n",
      "Enter name of student and test score or 'xx 00' to quit Francis 81\n",
      "Enter name of student and test score or 'xx 00' to quit Gloria 74\n",
      "Enter name of student and test score or 'xx 00' to quit Helen 49\n",
      "Enter name of student and test score or 'xx 00' to quit Irene 89\n",
      "Enter name of student and test score or 'xx 00' to quit Jackie 83\n",
      "Enter name of student and test score or 'xx 00' to quit Kate 90\n",
      "Enter name of student and test score or 'xx 00' to quit Larry 60\n",
      "Enter name of student and test score or 'xx 00' to quit Maria 66\n",
      "Enter name of student and test score or 'xx 00' to quit Nancy 55\n",
      "Enter name of student and test score or 'xx 00' to quit Olive 92\n",
      "Enter name of student and test score or 'xx 00' to quit xx 00\n",
      " \n",
      "{'Apple': 68, 'Betty': 72, 'Charles': 77, 'David': 88, 'Edward': 45, 'Francis': 81, 'Gloria': 74, 'Helen': 49, 'Irene': 89, 'Jackie': 83, 'Kate': 90, 'Larry': 60, 'Maria': 66, 'Nancy': 55, 'Olive': 92}\n",
      " \n",
      " \n",
      "Students passed\n",
      "---------------\n",
      "Apple 68\n",
      "Betty 72\n",
      "Charles 77\n",
      "David 88\n",
      "Francis 81\n",
      "Gloria 74\n",
      "Irene 89\n",
      "Jackie 83\n",
      "Kate 90\n",
      "Larry 60\n",
      "Maria 66\n",
      "Olive 92\n",
      " \n",
      " \n",
      "Students failed\n",
      "---------------\n",
      "Edward 45\n",
      "Helen 49\n",
      "Nancy 55\n"
     ]
    }
   ],
   "source": [
    "testScore={}\n",
    "i=0\n",
    "while i==0:\n",
    "    x, y = input(\"Enter name of student and test score or 'xx 00' to quit \").split()\n",
    "    if x == 'xx':\n",
    "       i+= 1 \n",
    "       continue\n",
    "    else:\n",
    "        testScore.update({x:int(y)})\n",
    "print(\" \")    \n",
    "print(testScore)\n",
    "print(\" \")\n",
    "print(\" \")\n",
    "print(\"Students passed\")\n",
    "print(\"---------------\")\n",
    " \n",
    "for k, v in testScore.items(): \n",
    "    if v > 59:\n",
    "        print (k, v)\n",
    "\n",
    "print(\" \")\n",
    "print(\" \")   \n",
    "print(\"Students failed\")\n",
    "print(\"---------------\")\n",
    "\n",
    "for k, v in testScore.items(): \n",
    "    if v < 60:\n",
    "        print (k, v)"
   ]
  },
  {
   "cell_type": "markdown",
   "metadata": {},
   "source": [
    "Exercise 7. \n",
    "\n",
    "Create a Word Counter program that gets a string of text from a user and then counts the number of times a word occurs in the string. \n",
    "\n",
    "The output should look something like this:\n",
    "    The Word Counter Program\n",
    "    \n",
    "    Enter a text string: \n",
    "    Humpty Dumpty sat on a wall, Humpty Dumpty had a great fall. All the king’s horses and all the king’s men couldn’t put Humpty together again.\n",
    "\n",
    "    a : 2\n",
    "    again : 1\n",
    "    all : 2\n",
    "    and : 1\n",
    "    couldn’t : 1\n",
    "    dumpty : 2\n",
    "    fall : 1\n",
    "    great : 1\n",
    "    had : 1\n",
    "    horses : 1\n",
    "    humpty : 3\n",
    "    king’s : 2\n",
    "    men : 1\n",
    "    on : 1\n",
    "    put : 1\n",
    "    sat : 1\n",
    "    the : 2\n",
    "    together : 1\n",
    "    wall : 1\n",
    "\n",
    "    There were total 26 words in the text string   "
   ]
  },
  {
   "cell_type": "code",
   "execution_count": 2,
   "metadata": {},
   "outputs": [
    {
     "name": "stdout",
     "output_type": "stream",
     "text": [
      "Text: \n",
      "Humpty Dumpty sat on a wall, Humpty Dumpty had a great fall. All the king’s horses and all the king’s men couldn’t put Humpty together again.\n",
      " \n",
      " \n",
      "-- The number of times a word occurs in the string---\n",
      " \n",
      "a : 2\n",
      "again : 1\n",
      "all : 2\n",
      "and : 1\n",
      "couldn’t : 1\n",
      "dumpty : 2\n",
      "fall : 1\n",
      "great : 1\n",
      "had : 1\n",
      "horses : 1\n",
      "humpty : 3\n",
      "king’s : 2\n",
      "men : 1\n",
      "on : 1\n",
      "put : 1\n",
      "sat : 1\n",
      "the : 2\n",
      "together : 1\n",
      "wall : 1\n"
     ]
    }
   ],
   "source": [
    "str1=[]\n",
    "dict1={}\n",
    "str =(\"Humpty Dumpty sat on a wall, Humpty Dumpty had a great fall. All the king’s horses and all the king’s men couldn’t put Humpty together again.\")\n",
    "print (\"Text: \")\n",
    "print (str)\n",
    "str = str.lower()\n",
    " \n",
    "str1=str.split()\n",
    "str1=sorted(str1)\n",
    "#print(str1)\n",
    "i=0\n",
    "j=len(str1)\n",
    "#print(j)\n",
    "while i < j:\n",
    "    #print(str1[i])\n",
    "    if str1[i] in dict1:\n",
    "        x = dict1.get(str1[i])+1\n",
    "        dict1.update({str1[i]:x})\n",
    "    else:\n",
    "      #  car.update({\"color\": \"White\"})\n",
    "        dict1.update({str1[i]:1})\n",
    "    #print(str1[i])  \n",
    "    #print(dict1)\n",
    "    i+=1\n",
    "\n",
    "#print(sorted(dict1))\n",
    "print(\" \")\n",
    "print(\" \")\n",
    "print(\"-- The number of times a word occurs in the string---\")\n",
    "print(\" \")\n",
    "for key, value in dict1.items(): \n",
    "    print(key.strip(\".,\"),\":\", value)\n",
    " \n",
    "  "
   ]
  },
  {
   "cell_type": "code",
   "execution_count": null,
   "metadata": {},
   "outputs": [],
   "source": []
  },
  {
   "cell_type": "code",
   "execution_count": null,
   "metadata": {},
   "outputs": [],
   "source": []
  }
 ],
 "metadata": {
  "kernelspec": {
   "display_name": "Python 3 (ipykernel)",
   "language": "python",
   "name": "python3"
  },
  "language_info": {
   "codemirror_mode": {
    "name": "ipython",
    "version": 3
   },
   "file_extension": ".py",
   "mimetype": "text/x-python",
   "name": "python",
   "nbconvert_exporter": "python",
   "pygments_lexer": "ipython3",
   "version": "3.11.5"
  }
 },
 "nbformat": 4,
 "nbformat_minor": 4
}
